{
 "cells": [
  {
   "cell_type": "code",
   "execution_count": 1,
   "metadata": {},
   "outputs": [],
   "source": [
    "import os\n",
    "from google import genai\n",
    "from google.genai import types\n",
    "import pathlib\n",
    "import wave"
   ]
  },
  {
   "cell_type": "code",
   "execution_count": 2,
   "metadata": {},
   "outputs": [],
   "source": [
    "FILEPATH = pathlib.Path('')\n",
    "PPMT = 10 # price per million tokens for audio generation in dollars. Used to set a price cap for the audio generation.\n",
    "PRICE_CAP = 0.5 # price cap for the audio generation in dollars.\n",
    "gemini_api_key = os.environ['GEMINI_API_KEY']"
   ]
  },
  {
   "cell_type": "code",
   "execution_count": null,
   "metadata": {},
   "outputs": [],
   "source": [
    "client = genai.Client()\n",
    "\n",
    "# Retrieve and encode the PDF byte\n",
    "prompt = \"Print out all of the text in the paper that a narrator would read aloud. Do not include citation numbers. Do not include methods, acknowledgements, bibliography, reporting summary, or competing interests.\"\n",
    "parsed_response = client.models.generate_content(\n",
    "  model=\"gemini-2.5-flash\",\n",
    "  contents=[\n",
    "      types.Part.from_bytes(\n",
    "        data=FILEPATH.read_bytes(),\n",
    "        mime_type='application/pdf',\n",
    "      ),\n",
    "      prompt])\n",
    "\n",
    "print(parsed_response.text)\n"
   ]
  },
  {
   "cell_type": "code",
   "execution_count": null,
   "metadata": {},
   "outputs": [],
   "source": [
    "# Check extracted text to make sure it looks ok\n",
    "parsed_response.text"
   ]
  },
  {
   "cell_type": "code",
   "execution_count": 19,
   "metadata": {},
   "outputs": [],
   "source": [
    "# Set up the wave file to save the output:\n",
    "def wave_file(filename, pcm, channels=1, rate=24000, sample_width=2):\n",
    "   with wave.open(filename, \"wb\") as wf:\n",
    "      wf.setnchannels(channels)\n",
    "      wf.setsampwidth(sample_width)\n",
    "      wf.setframerate(rate)\n",
    "      wf.writeframes(pcm)"
   ]
  },
  {
   "cell_type": "code",
   "execution_count": null,
   "metadata": {},
   "outputs": [],
   "source": [
    "text_token_count = client.models.count_tokens(\n",
    "    model=\"gemini-2.5-flash-preview-tts\", contents=parsed_response.text\n",
    ")\n",
    "\n",
    "cost_estimate = PPMT*text_token_count.total_tokens/1000000\n",
    "print(text_token_count)\n",
    "print(f'estimated cost = {cost_estimate}$')"
   ]
  },
  {
   "cell_type": "code",
   "execution_count": null,
   "metadata": {},
   "outputs": [],
   "source": [
    "if cost_estimate < PRICE_CAP:\n",
    "   response = client.models.generate_content(\n",
    "      model=\"gemini-2.5-flash-preview-tts\",\n",
    "      contents=\"Read:\"+parsed_response.text,\n",
    "      config=types.GenerateContentConfig(\n",
    "         response_modalities=[\"AUDIO\"],\n",
    "         speech_config=types.SpeechConfig(\n",
    "            voice_config=types.VoiceConfig(\n",
    "               prebuilt_voice_config=types.PrebuiltVoiceConfig(\n",
    "                  voice_name='Kore',\n",
    "               )\n",
    "            )\n",
    "         ),\n",
    "      )\n",
    "   )"
   ]
  },
  {
   "cell_type": "code",
   "execution_count": 30,
   "metadata": {},
   "outputs": [],
   "source": [
    "data = response.candidates[0].content.parts[0].inline_data.data\n",
    "\n",
    "file_name='saved_paper.wav'\n",
    "# file_name = ''\n",
    "wave_file(file_name, data) # Saves the file to current directory"
   ]
  }
 ],
 "metadata": {
  "kernelspec": {
   "display_name": "paper2mp3",
   "language": "python",
   "name": "paper2mp3"
  },
  "language_info": {
   "codemirror_mode": {
    "name": "ipython",
    "version": 3
   },
   "file_extension": ".py",
   "mimetype": "text/x-python",
   "name": "python",
   "nbconvert_exporter": "python",
   "pygments_lexer": "ipython3",
   "version": "3.13.5"
  }
 },
 "nbformat": 4,
 "nbformat_minor": 2
}
