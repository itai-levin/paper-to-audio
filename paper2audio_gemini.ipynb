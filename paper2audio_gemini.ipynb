{
 "cells": [
  {
   "cell_type": "code",
   "execution_count": 1,
   "metadata": {},
   "outputs": [],
   "source": [
    "import os\n",
    "from google import genai\n",
    "from google.genai import types\n",
    "import pathlib\n",
    "import wave\n",
    "import chunked_tts"
   ]
  },
  {
   "cell_type": "code",
   "execution_count": 2,
   "metadata": {},
   "outputs": [],
   "source": [
    "FILEPATH = pathlib.Path('/Users/Itai/Downloads/s41586-025-09442-9_reference.pdf')\n",
    "PPMT = 10 # price per million tokens for audio generation in dollars. Used to set a price cap for the audio generation.\n",
    "PRICE_CAP = 0.5 # price cap for the audio generation in dollars.\n",
    "OUTPUT_FILE = 'saved_paper.wav'\n",
    "gemini_api_key = os.environ['GEMINI_API_KEY']\n",
    "client = genai.Client()"
   ]
  },
  {
   "cell_type": "code",
   "execution_count": null,
   "metadata": {},
   "outputs": [],
   "source": [
    "# Retrieve and encode the PDF byte\n",
    "prompt = \"Print out all of the text in the paper that a narrator would read aloud. Include the title and section headings.\"+\\\n",
    "         \"Do not include citation numbers. Do not include methods, acknowledgements, bibliography,\"+\\\n",
    "         \"reporting summary, or competing interests.\"\n",
    "\n",
    "parsed_response = client.models.generate_content(\n",
    "  model=\"gemini-2.5-flash\",\n",
    "  contents=[\n",
    "      types.Part.from_bytes(\n",
    "        data=FILEPATH.read_bytes(),\n",
    "        mime_type='application/pdf',\n",
    "      ),\n",
    "      prompt])\n"
   ]
  },
  {
   "cell_type": "code",
   "execution_count": null,
   "metadata": {},
   "outputs": [],
   "source": [
    "text_token_count = client.models.count_tokens(\n",
    "    model=\"gemini-2.5-flash-preview-tts\", contents=parsed_response.text\n",
    ")\n",
    "\n",
    "cost_estimate = PPMT*text_token_count.total_tokens/1000000\n",
    "print(text_token_count)\n",
    "print(f'estimated cost = {cost_estimate}$')"
   ]
  },
  {
   "cell_type": "code",
   "execution_count": null,
   "metadata": {},
   "outputs": [],
   "source": [
    "if cost_estimate < PRICE_CAP:\n",
    "   chunks = chunked_tts.chunk_text_by_lines(parsed_response.text)\n",
    "   print(f\"Splitting input into {len(chunks)} chunks…\")\n",
    "\n",
    "   pcm_all = b\"\"\n",
    "   for idx, chunk in enumerate(chunks, 1):\n",
    "         print(f\"→ Processing chunk {idx}/{len(chunks)} (chars={len(chunk)})\")\n",
    "         pcm_all += chunked_tts.tts_chunk(client, chunk)\n",
    "\n",
    "   chunked_tts.wave_file(OUTPUT_FILE, pcm_all)\n",
    "   print(f\"Wrote {OUTPUT_FILE} (size={len(pcm_all)/24000/2:.1f} s)\")"
   ]
  },
  {
   "cell_type": "code",
   "execution_count": null,
   "metadata": {},
   "outputs": [],
   "source": [
    "parsed_response.text[9408+9400:9466+9409]"
   ]
  },
  {
   "cell_type": "code",
   "execution_count": null,
   "metadata": {},
   "outputs": [],
   "source": []
  }
 ],
 "metadata": {
  "kernelspec": {
   "display_name": "paper2mp3",
   "language": "python",
   "name": "paper2mp3"
  },
  "language_info": {
   "codemirror_mode": {
    "name": "ipython",
    "version": 3
   },
   "file_extension": ".py",
   "mimetype": "text/x-python",
   "name": "python",
   "nbconvert_exporter": "python",
   "pygments_lexer": "ipython3",
   "version": "3.13.5"
  }
 },
 "nbformat": 4,
 "nbformat_minor": 2
}
