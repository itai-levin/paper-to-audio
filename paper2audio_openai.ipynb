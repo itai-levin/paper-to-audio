{
 "cells": [
  {
   "cell_type": "code",
   "execution_count": null,
   "metadata": {},
   "outputs": [],
   "source": [
    "import os\n",
    "import openai\n",
    "import pathlib\n",
    "import wave\n",
    "import chunked_tts\n",
    "import base64"
   ]
  },
  {
   "cell_type": "code",
   "execution_count": null,
   "metadata": {},
   "outputs": [],
   "source": [
    "FILEPATH = pathlib.Path('/Users/Itai/Downloads/s41586-025-09442-9_reference.pdf')\n",
    "PPMT = 12 # price per million tokens for audio generation in dollars. Used to set a price cap for the audio generation.\n",
    "PRICE_CAP = 0.5 # price cap for the audio generation in dollars.\n",
    "OUTPUT_FILE = 'saved_paper.wav'\n",
    "TEXT_MODEL = \"gpt-4.1-mini-2025-04-14\"\n",
    "TTS_MODEL = \"gpt-4o-mini-tts\"\n",
    "client =openai.OpenAI()\n",
    "speech_file_path = pathlib.Path(OUTPUT_FILE)"
   ]
  },
  {
   "cell_type": "code",
   "execution_count": null,
   "metadata": {},
   "outputs": [],
   "source": [
    "# Retrieve and encode the PDF byte\n",
    "prompt = \"Print out all of the text in the paper that a narrator would read aloud. Include the title and section headings.\"+\\\n",
    "         \"Do not include citation numbers. Do not include methods, acknowledgements, bibliography,\"+\\\n",
    "         \"reporting summary, or competing interests.\"\n",
    "\n",
    "with open(FILEPATH, \"rb\") as file:\n",
    "    data = file.read()\n",
    "\n",
    "base64_string = base64.b64encode(data).decode(\"utf-8\")\n",
    "\n",
    "parsed_response = client.chat.completions.create(\n",
    "    model=TEXT_MODEL,\n",
    "    messages=[\n",
    "        {\n",
    "            \"role\": \"user\",\n",
    "            \"content\": [\n",
    "                {\n",
    "                    \"type\": \"file\",\n",
    "                    \"file\": {\n",
    "                        \"filename\": str(FILEPATH.name),\n",
    "                        \"file_data\": f\"data:application/pdf;base64,{base64_string}\",\n",
    "                    }\n",
    "                },\n",
    "                {\n",
    "                    \"type\": \"text\",\n",
    "                    \"text\": prompt,\n",
    "                }\n",
    "            ],\n",
    "        },\n",
    "    ],\n",
    ")\n"
   ]
  },
  {
   "cell_type": "code",
   "execution_count": null,
   "metadata": {},
   "outputs": [],
   "source": [
    "## Review the extracted text\n",
    "\n",
    "print(parsed_response.choices[0].message.content)"
   ]
  },
  {
   "cell_type": "code",
   "execution_count": null,
   "metadata": {},
   "outputs": [],
   "source": [
    "# Estimate the cost of the TTS (may be very inaccurate)\n",
    "\n",
    "import tiktoken \n",
    "\n",
    "tokenizer = tiktoken.encoding_for_model(\"gpt-4o-mini\")\n",
    "encoded = tokenizer.encode (parsed_response.choices[0].message.content)\n",
    "print (len(encoded))\n",
    "cost_estimate = PPMT*len(encoded)/1_000_000\n",
    "print(f'estimated cost = {cost_estimate}$')"
   ]
  },
  {
   "cell_type": "code",
   "execution_count": null,
   "metadata": {},
   "outputs": [],
   "source": [
    "if cost_estimate < PRICE_CAP:\n",
    "   chunks = chunked_tts.chunk_text_by_lines(parsed_response.choices[0].message.content)\n",
    "   print(f\"Splitting input into {len(chunks)} chunks…\")\n",
    "\n",
    "   pcm_all = b\"\"\n",
    "   for idx, chunk in enumerate(chunks, 1):\n",
    "         print(f\"→ Processing chunk {idx}/{len(chunks)} (chars={len(chunk)})\")\n",
    "         pcm_all += chunked_tts.tts_chunk(client, chunk)\n",
    "\n",
    "   chunked_tts.wave_file(OUTPUT_FILE, pcm_all)\n",
    "   print(f\"Wrote {OUTPUT_FILE} (size={len(pcm_all)/24000/2:.1f} s)\")"
   ]
  }
 ],
 "metadata": {
  "kernelspec": {
   "display_name": ".venv",
   "language": "python",
   "name": "python3"
  },
  "language_info": {
   "codemirror_mode": {
    "name": "ipython",
    "version": 3
   },
   "file_extension": ".py",
   "mimetype": "text/x-python",
   "name": "python",
   "nbconvert_exporter": "python",
   "pygments_lexer": "ipython3",
   "version": "3.13.5"
  }
 },
 "nbformat": 4,
 "nbformat_minor": 2
}
