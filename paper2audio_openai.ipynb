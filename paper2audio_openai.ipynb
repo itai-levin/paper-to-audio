{
 "cells": [
  {
   "cell_type": "code",
   "execution_count": 1,
   "metadata": {},
   "outputs": [
    {
     "name": "stderr",
     "output_type": "stream",
     "text": [
      "/Users/Itai/Library/Mobile Documents/com~apple~CloudDocs/independent_research/paper2audio/.venv/lib/python3.11/site-packages/pydub/utils.py:170: RuntimeWarning: Couldn't find ffmpeg or avconv - defaulting to ffmpeg, but may not work\n",
      "  warn(\"Couldn't find ffmpeg or avconv - defaulting to ffmpeg, but may not work\", RuntimeWarning)\n"
     ]
    }
   ],
   "source": [
    "import os\n",
    "import openai\n",
    "import pathlib\n",
    "import wave\n",
    "from datetime import datetime\n",
    "import chunked_tts\n",
    "import base64\n",
    "import text_extraction"
   ]
  },
  {
   "cell_type": "code",
   "execution_count": 2,
   "metadata": {},
   "outputs": [],
   "source": [
    "FILEPATH = pathlib.Path('/Users/Itai/Downloads/s41586-025-09697-2_reference.pdf')\n",
    "PPMT = 12 # price per million tokens for audio generation in dollars. Used to set a price cap for the audio generation.\n",
    "PRICE_CAP = 0.5 # price cap for the audio generation in dollars.\n",
    "OUTPUT_FILE = f'ezspecificity_{datetime.now().strftime(\"%Y%m%d_%H%M%S\")}'\n",
    "FORMAT = \"mp3\"\n",
    "TEXT_MODEL = \"gpt-4.1-mini-2025-04-14\"\n",
    "TTS_MODEL = \"gpt-4o-mini-tts\"\n",
    "client = openai.OpenAI()\n",
    "speech_file_path = pathlib.Path(OUTPUT_FILE)"
   ]
  },
  {
   "cell_type": "code",
   "execution_count": null,
   "metadata": {},
   "outputs": [
    {
     "name": "stdout",
     "output_type": "stream",
     "text": [
      "Saved extracted text to ezspecificity_20251014_161545.txt\n",
      "This is an automated voice reading Enzyme specificity prediction using cross attention graph neural networks by Haiyang Cui et al.\n",
      "\n",
      "nature\n",
      "\n",
      "Accelerated Article Preview\n",
      "\n",
      "Enzyme specificity prediction using cross attention graph neural networks\n",
      "\n",
      "Haiyang Cui, Yufeng Su, Tanner J. Dean, Tianhao Yu, Zhengyi Zhang, Jian Peng, Diwakar Shukla & Huimin Zhao\n",
      "\n",
      "Enzymes are the molecular machines of life, and a key property that governs their function is substrate specificity—the ability of an enzyme to recognize and selectively act on particular substrates. This specificity originates from the three-dimensional structure of the enzyme active site and complicated transition state of the reaction. Many enzymes can promiscuously catalyze reactions or act on substrates beyond those for which they were originally evolved. However, millions of known enzymes still lack reliable substrate specificity information, impeding their practical applications and comprehensive understanding of the biocatalytic diversity in nature. Herein, we developed a cross-attention-empowered SE(3)-equivariant graph neural network architecture named EZSpecificity for predicting enzyme substrate specificity, which was trained on a comprehensive tailor-made database of enzyme-substrate interactions at sequence and structural levels. EZSpecificity outperformed the existing machine learning models for enzyme substrate specificity prediction, as demonstrated by both an unknown substrate and enzyme database and seven proof-of-concept protein families. Experimental validation with eight halogenases and 78 substrates revealed that EZSpecificity achieved a 91.7% accuracy in identifying the single potential reactive substrate, significantly higher than that of the state-of-the-art model ESP with 58.3%. EZSpecificity represents a general machine learning model for accurate prediction of substrate specificity for enzymes related to fundamental and applied research in biology and medicine.\n",
      "\n",
      "Over the past few years, a num\n"
     ]
    }
   ],
   "source": [
    "# Extract (or load cached) narratable text\n",
    "extracted_text = text_extraction.extract_text_from_pdf(\n",
    "    FILEPATH,\n",
    "    OUTPUT_FILE,\n",
    "    prompt=None,  # use default prompt in library, or supply custom\n",
    "    model=TEXT_MODEL,\n",
    "    client=client,\n",
    ")\n",
    "\n",
    "print(extracted_text[:2000]+'... [TRUNCATED]')  # preview first 2k chars\n",
    "\n",
    "# continue workflow\n",
    "parsed_response = type(\"Obj\", (), {\"choices\": [type(\"msg\", (), {\"message\": type(\"m\", (), {\"content\": extracted_text})()})]})()"
   ]
  },
  {
   "cell_type": "code",
   "execution_count": 4,
   "metadata": {},
   "outputs": [
    {
     "name": "stdout",
     "output_type": "stream",
     "text": [
      "4995\n",
      "estimated cost = 0.05994$\n"
     ]
    }
   ],
   "source": [
    "# Estimate the cost of the TTS (may be very inaccurate)\n",
    "\n",
    "import tiktoken \n",
    "\n",
    "tokenizer = tiktoken.encoding_for_model(\"gpt-4o-mini\")\n",
    "encoded = tokenizer.encode (parsed_response.choices[0].message.content)\n",
    "print (len(encoded))\n",
    "cost_estimate = PPMT*len(encoded)/1_000_000\n",
    "print(f'estimated cost = {cost_estimate}$')"
   ]
  },
  {
   "cell_type": "code",
   "execution_count": 5,
   "metadata": {},
   "outputs": [],
   "source": [
    "### Initialize block that can be run independently of the block below if it igets interrupted\n",
    "chunks_processed = 0\n",
    "pcm_all = b\"\""
   ]
  },
  {
   "cell_type": "code",
   "execution_count": 6,
   "metadata": {},
   "outputs": [
    {
     "name": "stdout",
     "output_type": "stream",
     "text": [
      "Splitting input into 4 chunks…\n",
      "→ Processing chunk 1/4 (chars=7720)\n",
      "Completed TTS chunk\n",
      "→ Processing chunk 2/4 (chars=7857)\n",
      "Completed TTS chunk\n",
      "→ Processing chunk 3/4 (chars=7702)\n",
      "Completed TTS chunk\n",
      "→ Processing chunk 4/4 (chars=4122)\n",
      "Completed TTS chunk\n"
     ]
    }
   ],
   "source": [
    "if cost_estimate < PRICE_CAP:\n",
    "   chunks = chunked_tts.chunk_text_by_lines(parsed_response.choices[0].message.content)\n",
    "   print(f\"Splitting input into {len(chunks)} chunks…\")\n",
    "   # try retrieving progress\n",
    "   # Check if idx is defined, and if so, start from chunks[idx:]\n",
    "   \n",
    "if chunks_processed > 0:\n",
    "    print(f\"Resuming from chunk {chunks_processed}/{len(chunks)}\")\n",
    "    chunks = chunks[chunks_processed:]  # idx is 1-based, so subtract 1 for 0-based indexing\n",
    "\n",
    "for chunk in chunks:\n",
    "    print(f\"→ Processing chunk {chunks_processed+1}/{len(chunks)} (chars={len(chunk)})\")\n",
    "    pcm_all += chunked_tts.tts_chunk(client, chunk)\n",
    "    chunks_processed += 1"
   ]
  },
  {
   "cell_type": "code",
   "execution_count": 7,
   "metadata": {},
   "outputs": [
    {
     "ename": "FileNotFoundError",
     "evalue": "[Errno 2] No such file or directory: 'ffmpeg'",
     "output_type": "error",
     "traceback": [
      "\u001b[31m---------------------------------------------------------------------------\u001b[39m",
      "\u001b[31mFileNotFoundError\u001b[39m                         Traceback (most recent call last)",
      "\u001b[36mCell\u001b[39m\u001b[36m \u001b[39m\u001b[32mIn[7]\u001b[39m\u001b[32m, line 1\u001b[39m\n\u001b[32m----> \u001b[39m\u001b[32m1\u001b[39m \u001b[43mchunked_tts\u001b[49m\u001b[43m.\u001b[49m\u001b[43msave_audio_file\u001b[49m\u001b[43m(\u001b[49m\u001b[43mOUTPUT_FILE\u001b[49m\u001b[43m,\u001b[49m\u001b[43m \u001b[49m\u001b[43mpcm_all\u001b[49m\u001b[43m,\u001b[49m\u001b[43m \u001b[49m\u001b[43mfmt\u001b[49m\u001b[43m=\u001b[49m\u001b[43mFORMAT\u001b[49m\u001b[43m)\u001b[49m\n\u001b[32m      2\u001b[39m \u001b[38;5;28mprint\u001b[39m(\u001b[33mf\u001b[39m\u001b[33m\"\u001b[39m\u001b[33mWrote \u001b[39m\u001b[38;5;132;01m{\u001b[39;00mOUTPUT_FILE\u001b[38;5;132;01m}\u001b[39;00m\u001b[33m (size=\u001b[39m\u001b[38;5;132;01m{\u001b[39;00m\u001b[38;5;28mlen\u001b[39m(pcm_all)/\u001b[32m24000\u001b[39m/\u001b[32m2\u001b[39m\u001b[38;5;132;01m:\u001b[39;00m\u001b[33m.1f\u001b[39m\u001b[38;5;132;01m}\u001b[39;00m\u001b[33m s)\u001b[39m\u001b[33m\"\u001b[39m)      \n",
      "\u001b[36mFile \u001b[39m\u001b[32m~/Library/Mobile Documents/com~apple~CloudDocs/independent_research/paper2audio/chunked_tts.py:58\u001b[39m, in \u001b[36msave_audio_file\u001b[39m\u001b[34m(filename, pcm, fmt, channels, rate, sample_width)\u001b[39m\n\u001b[32m     50\u001b[39m         \u001b[38;5;28;01mraise\u001b[39;00m \u001b[38;5;167;01mRuntimeError\u001b[39;00m(\u001b[33m\"\u001b[39m\u001b[33mpydub is required for MP3 output. Install with `pip install pydub` and ensure ffmpeg is available.\u001b[39m\u001b[33m\"\u001b[39m)\n\u001b[32m     52\u001b[39m     audio = AudioSegment(\n\u001b[32m     53\u001b[39m         data=pcm,\n\u001b[32m     54\u001b[39m         sample_width=sample_width,\n\u001b[32m     55\u001b[39m         frame_rate=rate,\n\u001b[32m     56\u001b[39m         channels=channels,\n\u001b[32m     57\u001b[39m     )\n\u001b[32m---> \u001b[39m\u001b[32m58\u001b[39m     \u001b[43maudio\u001b[49m\u001b[43m.\u001b[49m\u001b[43mexport\u001b[49m\u001b[43m(\u001b[49m\u001b[38;5;28;43mstr\u001b[39;49m\u001b[43m(\u001b[49m\u001b[43mfilename\u001b[49m\u001b[43m.\u001b[49m\u001b[43mwith_suffix\u001b[49m\u001b[43m(\u001b[49m\u001b[33;43m'\u001b[39;49m\u001b[33;43m.mp3\u001b[39;49m\u001b[33;43m'\u001b[39;49m\u001b[43m)\u001b[49m\u001b[43m)\u001b[49m\u001b[43m,\u001b[49m\u001b[43m \u001b[49m\u001b[38;5;28;43mformat\u001b[39;49m\u001b[43m=\u001b[49m\u001b[33;43m\"\u001b[39;49m\u001b[33;43mmp3\u001b[39;49m\u001b[33;43m\"\u001b[39;49m\u001b[43m,\u001b[49m\u001b[43m \u001b[49m\u001b[43mbitrate\u001b[49m\u001b[43m=\u001b[49m\u001b[33;43m\"\u001b[39;49m\u001b[33;43m192k\u001b[39;49m\u001b[33;43m\"\u001b[39;49m\u001b[43m)\u001b[49m\n\u001b[32m     59\u001b[39m \u001b[38;5;28;01melse\u001b[39;00m:  \u001b[38;5;66;03m# wav\u001b[39;00m\n\u001b[32m     60\u001b[39m     \u001b[38;5;28;01mwith\u001b[39;00m wave.open(\u001b[38;5;28mstr\u001b[39m(filename.with_suffix(\u001b[33m'\u001b[39m\u001b[33m.wav\u001b[39m\u001b[33m'\u001b[39m)), \u001b[33m\"\u001b[39m\u001b[33mwb\u001b[39m\u001b[33m\"\u001b[39m) \u001b[38;5;28;01mas\u001b[39;00m wf:\n",
      "\u001b[36mFile \u001b[39m\u001b[32m~/Library/Mobile Documents/com~apple~CloudDocs/independent_research/paper2audio/.venv/lib/python3.11/site-packages/pydub/audio_segment.py:963\u001b[39m, in \u001b[36mAudioSegment.export\u001b[39m\u001b[34m(self, out_f, format, codec, bitrate, parameters, tags, id3v2_version, cover)\u001b[39m\n\u001b[32m    961\u001b[39m \u001b[38;5;66;03m# read stdin / write stdout\u001b[39;00m\n\u001b[32m    962\u001b[39m \u001b[38;5;28;01mwith\u001b[39;00m \u001b[38;5;28mopen\u001b[39m(os.devnull, \u001b[33m'\u001b[39m\u001b[33mrb\u001b[39m\u001b[33m'\u001b[39m) \u001b[38;5;28;01mas\u001b[39;00m devnull:\n\u001b[32m--> \u001b[39m\u001b[32m963\u001b[39m     p = \u001b[43msubprocess\u001b[49m\u001b[43m.\u001b[49m\u001b[43mPopen\u001b[49m\u001b[43m(\u001b[49m\u001b[43mconversion_command\u001b[49m\u001b[43m,\u001b[49m\u001b[43m \u001b[49m\u001b[43mstdin\u001b[49m\u001b[43m=\u001b[49m\u001b[43mdevnull\u001b[49m\u001b[43m,\u001b[49m\u001b[43m \u001b[49m\u001b[43mstdout\u001b[49m\u001b[43m=\u001b[49m\u001b[43msubprocess\u001b[49m\u001b[43m.\u001b[49m\u001b[43mPIPE\u001b[49m\u001b[43m,\u001b[49m\u001b[43m \u001b[49m\u001b[43mstderr\u001b[49m\u001b[43m=\u001b[49m\u001b[43msubprocess\u001b[49m\u001b[43m.\u001b[49m\u001b[43mPIPE\u001b[49m\u001b[43m)\u001b[49m\n\u001b[32m    964\u001b[39m p_out, p_err = p.communicate()\n\u001b[32m    966\u001b[39m log_subprocess_output(p_out)\n",
      "\u001b[36mFile \u001b[39m\u001b[32m~/.local/share/uv/python/cpython-3.11.13-macos-aarch64-none/lib/python3.11/subprocess.py:1026\u001b[39m, in \u001b[36mPopen.__init__\u001b[39m\u001b[34m(self, args, bufsize, executable, stdin, stdout, stderr, preexec_fn, close_fds, shell, cwd, env, universal_newlines, startupinfo, creationflags, restore_signals, start_new_session, pass_fds, user, group, extra_groups, encoding, errors, text, umask, pipesize, process_group)\u001b[39m\n\u001b[32m   1022\u001b[39m         \u001b[38;5;28;01mif\u001b[39;00m \u001b[38;5;28mself\u001b[39m.text_mode:\n\u001b[32m   1023\u001b[39m             \u001b[38;5;28mself\u001b[39m.stderr = io.TextIOWrapper(\u001b[38;5;28mself\u001b[39m.stderr,\n\u001b[32m   1024\u001b[39m                     encoding=encoding, errors=errors)\n\u001b[32m-> \u001b[39m\u001b[32m1026\u001b[39m     \u001b[38;5;28;43mself\u001b[39;49m\u001b[43m.\u001b[49m\u001b[43m_execute_child\u001b[49m\u001b[43m(\u001b[49m\u001b[43margs\u001b[49m\u001b[43m,\u001b[49m\u001b[43m \u001b[49m\u001b[43mexecutable\u001b[49m\u001b[43m,\u001b[49m\u001b[43m \u001b[49m\u001b[43mpreexec_fn\u001b[49m\u001b[43m,\u001b[49m\u001b[43m \u001b[49m\u001b[43mclose_fds\u001b[49m\u001b[43m,\u001b[49m\n\u001b[32m   1027\u001b[39m \u001b[43m                        \u001b[49m\u001b[43mpass_fds\u001b[49m\u001b[43m,\u001b[49m\u001b[43m \u001b[49m\u001b[43mcwd\u001b[49m\u001b[43m,\u001b[49m\u001b[43m \u001b[49m\u001b[43menv\u001b[49m\u001b[43m,\u001b[49m\n\u001b[32m   1028\u001b[39m \u001b[43m                        \u001b[49m\u001b[43mstartupinfo\u001b[49m\u001b[43m,\u001b[49m\u001b[43m \u001b[49m\u001b[43mcreationflags\u001b[49m\u001b[43m,\u001b[49m\u001b[43m \u001b[49m\u001b[43mshell\u001b[49m\u001b[43m,\u001b[49m\n\u001b[32m   1029\u001b[39m \u001b[43m                        \u001b[49m\u001b[43mp2cread\u001b[49m\u001b[43m,\u001b[49m\u001b[43m \u001b[49m\u001b[43mp2cwrite\u001b[49m\u001b[43m,\u001b[49m\n\u001b[32m   1030\u001b[39m \u001b[43m                        \u001b[49m\u001b[43mc2pread\u001b[49m\u001b[43m,\u001b[49m\u001b[43m \u001b[49m\u001b[43mc2pwrite\u001b[49m\u001b[43m,\u001b[49m\n\u001b[32m   1031\u001b[39m \u001b[43m                        \u001b[49m\u001b[43merrread\u001b[49m\u001b[43m,\u001b[49m\u001b[43m \u001b[49m\u001b[43merrwrite\u001b[49m\u001b[43m,\u001b[49m\n\u001b[32m   1032\u001b[39m \u001b[43m                        \u001b[49m\u001b[43mrestore_signals\u001b[49m\u001b[43m,\u001b[49m\n\u001b[32m   1033\u001b[39m \u001b[43m                        \u001b[49m\u001b[43mgid\u001b[49m\u001b[43m,\u001b[49m\u001b[43m \u001b[49m\u001b[43mgids\u001b[49m\u001b[43m,\u001b[49m\u001b[43m \u001b[49m\u001b[43muid\u001b[49m\u001b[43m,\u001b[49m\u001b[43m \u001b[49m\u001b[43mumask\u001b[49m\u001b[43m,\u001b[49m\n\u001b[32m   1034\u001b[39m \u001b[43m                        \u001b[49m\u001b[43mstart_new_session\u001b[49m\u001b[43m,\u001b[49m\u001b[43m \u001b[49m\u001b[43mprocess_group\u001b[49m\u001b[43m)\u001b[49m\n\u001b[32m   1035\u001b[39m \u001b[38;5;28;01mexcept\u001b[39;00m:\n\u001b[32m   1036\u001b[39m     \u001b[38;5;66;03m# Cleanup if the child failed starting.\u001b[39;00m\n\u001b[32m   1037\u001b[39m     \u001b[38;5;28;01mfor\u001b[39;00m f \u001b[38;5;129;01min\u001b[39;00m \u001b[38;5;28mfilter\u001b[39m(\u001b[38;5;28;01mNone\u001b[39;00m, (\u001b[38;5;28mself\u001b[39m.stdin, \u001b[38;5;28mself\u001b[39m.stdout, \u001b[38;5;28mself\u001b[39m.stderr)):\n",
      "\u001b[36mFile \u001b[39m\u001b[32m~/.local/share/uv/python/cpython-3.11.13-macos-aarch64-none/lib/python3.11/subprocess.py:1955\u001b[39m, in \u001b[36mPopen._execute_child\u001b[39m\u001b[34m(self, args, executable, preexec_fn, close_fds, pass_fds, cwd, env, startupinfo, creationflags, shell, p2cread, p2cwrite, c2pread, c2pwrite, errread, errwrite, restore_signals, gid, gids, uid, umask, start_new_session, process_group)\u001b[39m\n\u001b[32m   1953\u001b[39m     err_msg = os.strerror(errno_num)\n\u001b[32m   1954\u001b[39m \u001b[38;5;28;01mif\u001b[39;00m err_filename \u001b[38;5;129;01mis\u001b[39;00m \u001b[38;5;129;01mnot\u001b[39;00m \u001b[38;5;28;01mNone\u001b[39;00m:\n\u001b[32m-> \u001b[39m\u001b[32m1955\u001b[39m     \u001b[38;5;28;01mraise\u001b[39;00m child_exception_type(errno_num, err_msg, err_filename)\n\u001b[32m   1956\u001b[39m \u001b[38;5;28;01melse\u001b[39;00m:\n\u001b[32m   1957\u001b[39m     \u001b[38;5;28;01mraise\u001b[39;00m child_exception_type(errno_num, err_msg)\n",
      "\u001b[31mFileNotFoundError\u001b[39m: [Errno 2] No such file or directory: 'ffmpeg'"
     ]
    }
   ],
   "source": [
    "chunked_tts.save_audio_file(OUTPUT_FILE, pcm_all, fmt=FORMAT)\n",
    "print(f\"Wrote {OUTPUT_FILE} (size={len(pcm_all)/24000/2:.1f} s)\")      "
   ]
  },
  {
   "cell_type": "code",
   "execution_count": 8,
   "metadata": {},
   "outputs": [
    {
     "data": {
      "text/plain": [
       "['This is an automated voice reading Complete computational design of high-efficiency Kemp elimination enzymes by Dina Listov et al.\\n\\nComplete computational design of high-efficiency Kemp elimination enzymes\\n\\nUntil now, computationally designed enzymes exhibited low catalytic rates and required intensive experimental optimization to reach activity levels observed in comparable natural enzymes. These results exposed limitations in design methodology and suggested critical gaps in our understanding of the fundamentals of biocatalysis. We present a fully computational workflow for designing efficient enzymes in TIM-barrel folds using backbone fragments from natural proteins and without requiring optimization by mutant-library screening. Three Kemp eliminase designs exhibit efficiencies greater than 2,000 M inverse seconds. The most efficient shows more than 140 mutations from any natural protein, including a novel active site. It exhibits high stability greater than 85 degrees Celsius and remarkable catalytic efficiency 12,700 M inverse seconds and rate 2.8 per second, surpassing previous computational designs by two orders of magnitude. Furthermore, designing a residue considered essential in all previous Kemp eliminase designs increases efficiency to more than 10 to the 5th M inverse seconds and rate to 30 per second, achieving catalytic parameters comparable to natural enzymes and challenging fundamental biocatalytic assumptions. By overcoming limitations in design methodology, our strategy enables programming stable, high-efficiency, new-to-nature enzymes through a minimal experimental effort.\\n\\nNatural enzymes are exceptionally versatile, selective and highly efficient catalysts. Yet, computational design of enzymes that match this proficiency, particularly for non-natural reactions, remains elusive. Recent advances in computational design have enabled rapid and effective optimization of natural enzyme stability, expressibility, catalytic rate and selectivity through fully computational workflows. Furthermore, advances in fold design enabled the grafting of natural or engineered active sites into idealized de novo backbones. By contrast, enzymes designed de novo, that is, without recourse to naturally occurring enzymes that catalyse the same reaction, were orders of magnitude less active relative to comparable natural ones. Previous studies have therefore used repeated cycles of laboratory evolution, involving high-throughput screening of mutants, to reach effective enzymes. Such cycles are inefficient and are restricted to reactions that can be assayed in medium-to-high throughput fashion. Critically, continuing to rely on large-library screening of random mutants suggests that our understanding and control of the fundamentals of biocatalysis are far from complete.\\n\\nThe Kemp elimination reaction, a prototype for natural base-catalysed proton abstraction, has long served as a model for studying de novo enzyme design, as no natural enzyme is known to have been evolved for this reaction. Despite increasing sophistication in protein design methods, computationally designed Kemp eliminases exhibited low catalytic efficiencies and rates and required further optimization by iterative mutational library screening to achieve catalytic parameters comparable to or above the median values of enzymes in nature.\\n\\nThe underlying reasons for the low efficiencies of de novo designed enzymes have been intensely studied. These analyses revealed that the designed active sites exhibited significant structural distortions relative to the design conception. Notably, catalysis is extremely sensitive to molecular details, and shifts of the catalytic constellation by a few degrees or tenths of an angstrom from optimality may translate into orders of magnitude decreases in efficiency. Furthermore, designs often exhibited low stability and expressibility, limiting their ability to accommodate activity-enhancing mutations. Further concerns were that fixed-backbone design methods fail to precisely position non-native catalytic groups; the molecular details of the designed transition state were uncertain; and that protein dynamics and long-range electrostatic interactions may be necessary to achieve high catalytic efficiency but are unaccounted for in the design process.\\n\\nRecent analyses suggested that overcoming the shortcomings of de novo enzyme design methodology may require artificial intelligence-based approaches, more accurate physics-based energetics and data from high-throughput screening. Here, we test whether recent developments in atomistic protein design that allow accurate backbone and sequence design in natural protein folds address the limitations of de novo enzyme design methodology without resorting to experimental optimization or big-data analyses. To directly compare with previous design approaches, we apply the strategy to the Kemp elimination reaction and generate enzymes that rival laboratory-evolved eliminases without recourse to high-throughput screening or iterative mutagenesis.\\n\\nDesigning stability, foldability and activity\\n\\nOur working hypothesis is that effective enzyme design demands control over all protein degrees of freedom to establish stability, foldability and accurate positioning of the theozyme. Foldability, the ability of the protein to fold uniquely into the design conception, has been a long-standing challenge for de novo enzyme design. Over the past decade, foldability has been partly addressed through de novo fold design, enabling the generation of numerous stable and accurately designed proteins. These design methods, however, maximize foldability, generating backbones that are dominated by ideal secondary structure elements that lack the non-ideal elements that may lower foldability but are nonetheless needed for sophisticated functions. Until now, functionalizing de novo generated folds has produced enzymes that exhibited rates well below one per second. In certain cases, de novo designs exhibited high catalytic efficiencies but only through very low KM values. Low KM values indicate tight binding of the substrate in its ground state, suggesting that the designs optimize molecular recognition of their substrates before the catalytic step. By contrast, turnover numbers reflect the chemical transformation following substrate binding and are a more stringent test of the ability to design high-efficiency catalysts rather than effective binders. The persistently low kcat values, including in recent studies, highlight the challenge of achieving catalytic control in enzyme design.\\n\\nGiven these limitations, we focused on the TIM-barrel fold, which is one of the most prevalent protein folds found among enzymes. In this fold, the residues of the central beta barrel are oriented towards the active-site cavity, providing many opportunities for optimally placing the catalytic and substrate-binding groups. We reasoned that despite the challenges in designing accurate and functional TIM barrels, this fold provides an attractive framework for engineering new enzymatic functions.\\n',\n",
       " 'We developed a computational method that can be applied, in principle, to any reaction, given a precomputed theozyme. The workflow starts by generating thousands of backbones using combinatorial assembly and design, which combines fragments from homologous proteins to generate new backbones. Subsequently, Protein Repair One Stop Shop design calculations are applied to stabilize the designed conformation. The resulting structures show backbone variations within the active-site pocket, increasing the likelihood of obtaining foldable backbones that position the theozyme and supporting residues in a catalytically competent and energetically relaxed constellation. Following backbone generation, we implement geometric matching to position the Kemp elimination theozyme in each of the designed structures and optimize the remainder of the active site using Rosetta atomistic calculations, in effect mutating all active-site positions, including the vestigial catalytic residues of the natural enzyme. The workflow results in millions of designs, which are filtered using a fuzzy-logic optimization objective function. This approach balances potentially conflicting objectives that are critical for design of function, such as low system energy and high desolvation of the catalytic base. Selecting a few dozen top-scoring designs, we next stabilize the active site and positions in the protein core, resulting in designs with more than 100 mutations from any natural protein. Unlike previous approaches, this workflow emphasizes stability across the entire protein. It capitalizes on the ability to generate thousands of stable, natural-like TIM barrels that exhibit backbone diversity in the active site and on automated scaffold and active-site sequence design methods that have been validated on dozens of natural enzymes.\\n\\nEfficient, stable and accurate Kemp eliminases\\n\\nWe applied our pipeline to the indole-3-glycerol-phosphate synthase enzyme family, which can sterically accommodate the 5-nitrobenzisoxazole substrate and was previously used to design Kemp eliminases. The theozyme builds on a catalytic constellation derived from quantum-mechanical calculations. It includes a nucleophile, such as Asp or Glu, which serves as a base for proton abstraction from the substrate, and an aromatic sidechain that forms pi-stacking interactions with the substrate in the transition state. The latter interaction has been used in all previous computational Kemp eliminase design studies to promote binding to the aromatic benzisoxazole rings. Typical design studies also introduced a polar interaction with the isoxazole oxygen to stabilize the developing negative charge in the transition state. We excluded this requirement from our theozyme because a water molecule can satisfy it, and a misplaced polar group could reduce reactivity by lowering the pKa of the catalytic base.\\n\\nWe selected 73 designs for experimental testing. The designs ranged from 245 to 268 amino acids and were diverse, with 30 to 93 percent sequence identity to one another and 41 to 59 percent identity to any natural protein. In total, 66 designs were solubly expressed and 14 showed cooperative thermal denaturation. Three designs showed measurable Kemp elimination activity in an initial screen, with the top two designs, Des27 and Des61, exhibiting catalytic efficiencies of 130 and 210 per mole per second, respectively, and turnover number less than one per second.\\n\\nThe catalytic rate and efficiency of these designs are on a par with previously designed enzymes, falling short by several orders of magnitude from comparable natural eliminases and from designed Kemp eliminases that were optimized through laboratory-evolution campaigns. To optimize these designs computationally, we applied FuncLib to active-site positions, excluding the theozyme residues. The FuncLib method restricts amino acid mutations to those likely to appear in the natural diversity of homologous proteins. To develop an optimization strategy for a de novo reaction, we removed all homology-based restrictions in the active site, thus using atomistic energy as the sole optimization objective function. We selected six and twelve low-energy designs for experimental testing for Des61 and Des27, respectively, each comprising five to eight specific mutations relative to their origin. All designs exhibited high expression yields and showed cooperative denaturation. One design derived from Des61 showed catalytic efficiency of 3,600 per mole per second and turnover number of 0.85 per second. Remarkably, eight designs on the basis of Des27 showed increased catalytic rates by 10 to 70 fold, with Des27.7, harbouring seven mutations relative to Des27, reaching a catalytic efficiency of 12,700 per mole per second and turnover number of 2.85 per second, a rate that is an order of magnitude greater than that of any previously reported computational design. This design diverges significantly from natural indole-3-glycerol-phosphate synthases, and a pairwise sequence alignment to the closest protein in the non-redundant sequence database reveals 141 mutations and multiple insertions and deletions. It also diverges in sequence and backbone from previously designed Kemp eliminases in natural IGPS scaffolds and features a different active-site constellation and position.\\n\\nWe analysed the structural models of Des27 and its FuncLib-derived variants to understand the mechanistic basis for the differences in catalytic efficiency, which span three orders of magnitude, using the Rosetta force field and molecular dynamics simulations. A sequence alignment of the FuncLib designs shows that mutations at positions 136, 216 and 183 are associated with high catalytic efficiency. Contrasting the structure models of Des27 and Des27.7 reveals that these mutations may increase hydrophobic packing around the catalytic Asp162, probably improving its preorganization and desolvation and increasing its reactivity. Indeed, the Rosetta-computed van der Waals energy of Asp162 is highly correlated with catalytic efficiency among the FuncLib designs. As further support, molecular dynamics simulations show that Asp162 is conformationally dynamic in the ligand-unbound models, sampling multiple metastable conformations, and that the fraction of non-productive conformations decreases in Des27.7 relative to Des27. Furthermore, the Des27 model suggests that Leu236 may partly overlap with the substrate, and that the mutation to Val in Des27.7 would alleviate this unfavourable interaction while increasing the volume of the pocket. Finally, other mutations may improve the solvation of the polar nitro moiety of the substrate, and may enable water-mediated polar interactions with the nitro group. Thus, although the seven mutations in Des27.7 are mostly conservative, their aggregate markedly improves the catalytic parameters by reshaping the active-site pocket for better substrate recognition and optimizing the preorganization and reactivity of the catalytic base.\\n',\n",
       " 'To analyse the stability of the substrate within the active site, we conducted microsecond molecular dynamics simulations of Des27 and Des27.7, starting from their ligand-bound design models. In both cases and across all replicas, the substrate exited and re-entered the active-site pocket multiple times, with Des27.7 showing five times more substrate retention. This contrasts with the typical scenario in molecular dynamics simulations in which unbinding events are terminal. Thus, the molecular dynamics simulations indicate that our designs exhibit high affinity for the substrate, and that Des27.7 improves it further. We also noticed that the substrate may enter the pocket in two reactive conformations that are inverted: one that closely matches the design model, with the nitro substituent occupying the entrance to the active site, and one in which it is inverted by approximately 180 degrees. Empirical valence bond calculations of reaction free energies show similar energy profiles for both conformations, indicating that both are catalytically competent. Taken together, the molecular dynamics and empirical valence bond calculations suggest that the experimentally measured results reflect the sum of both reaction modes, with the ‘out’ conformation being occupied a greater fraction of simulation time than the ‘in’ conformation, but with empirical valence bond predicting the in conformation as being slightly more reactive in the optimized variant.\\n\\nTo verify the molecular accuracy of the design process, we determined the structure of Des27.7 in the unbound form by crystallographic analysis. All active-site positions aligned well with the design conception, including the catalytic Asp162, although a slight shift was observed in the orientation of Phe113. Outside the active-site pocket, many positions aligned well, but 65 amino acids either deviated or did not exhibit significant electron density, probably due to backbone flexibility in this region. This fragment is known to be dynamic in the IGPS protein family, but it lies outside the active-site pocket and probably does not contribute directly to reactivity and substrate recognition. Taken together, our results verify a fully computational pipeline that designs an accurate de novo active site and generates a stable and high-efficiency new-to-nature enzyme.\\n\\nNecessary and sufficient conditions for design\\n\\nOur computational workflow is based on the combination of several design components, each of which introduces multiple mutations that address aspects that are critical for efficient biocatalysis, such as backbone diversity, stability, foldability and activity. We next probed whether each of these components contributes to the intended property and whether all are essential.\\n\\nWe started by examining whether modular assembly and design is essential for generating diverse backbones. Instead of applying modular assembly and design, we applied the subsequent steps of the workflow to 1,072 representative IGPSs that were modelled using AlphaFold2. We tested 55 designs, of which 49 were solubly expressed and 28 exhibited apparent cooperative unfolding with apparent melting temperature values 47 to 88 degrees Celsius. In total, 70 percent of the cooperatively folded designs showed measurable Kemp elimination activity with catalytic efficiencies in the range of 0.5 to 155 per mole per second, demonstrating that the workflow can design stable and functional Kemp eliminases in a wide range of different starting points. As expected, designs that did not show cooperative unfolding lacked Kemp elimination activity. We applied FuncLib to the active sites of six designs and tested 9 to 14 variants for each starting point. In five cases, catalytic efficiencies improved by 3 to 10 fold, with the highest catalytic efficiency reaching 300 M inverse seconds. We determined the crystallographic structure of two designs. The active sites were close to their design conceptions, but, in both cases, several loops either lacked electron density or exhibited significant conformational changes compared with the designs, which could impede substrate entry to the active site. To explore whether the foldability of these loops could be improved, we applied FuncLib to stabilize these regions according to the design models. Three of 16 FuncLib variants of one design showed a significant increase in catalytic efficiency, with improvements up to 20 fold compared with the original design, reaching catalytic efficiency 2,000 per mole per second, but none surpassed the performance of Des27.7. These results demonstrate that large-scale artificial intelligence-based structure prediction of natural enzymes provides a valuable resource for de novo enzyme design, and that the computational workflow reproducibly generates efficient enzymes. In this case, however, optimization with FuncLib reached superior catalytic parameters in the designs derived from modular assembly, which may reflect the greater structural diversity in these designs.\\n\\nAs a next step to understanding the necessary and sufficient conditions for design of high-efficiency enzymes, we deconvoluted the contributions of each design component to the high stability and activity of Des27.7. As a baseline, we tested the outcome of combinatorial assembly and design alone, excluding both the Protein Repair One Stop Shop-based stability mutations and the active-site design. This variant exhibited an apparent melting temperature of 57 degrees Celsius and no detectable Kemp elimination activity. Adding the 11 Protein Repair One Stop Shop-designed mutations substantially improved both bacterial expression and thermal stability to 69 degrees Celsius. Separately, grafting the active site from Des27.7 onto the combinatorial assembly starting point, without Protein Repair One Stop Shop stabilizing mutations, conferred high activity levels but fourfold lower than in Des27.7. Combining the modular assembly, Protein Repair One Stop Shop and the designed active site yielded a synergistic, higher-than-expected improvement in both stability and reactivity beyond the contribution of the individual components. Thus, despite the large number of mutations introduced by each computational component, resulting designs did not exhibit the trade-offs between stability and activity that were often reported in laboratory-evolution campaigns. Furthermore, although active-site mutations are often assumed to compromise stability, in our case, the designed active site contributed positively to stability. Collectively, these findings emphasize the importance of stabilizing the entire protein to obtain efficient enzymes and the potential for synergy between stability and activity-promoting mutations when using reliable sequence design methods.\\n\\nFinally, we evaluated the contribution of the theozyme to the activity of Des27.7. Mutating the catalytic base Asp162 to Ala completely abolished activity, verifying that the designed base is essential. Remarkably, this single-point mutation also markedly increased protein stability, with the apparent melting temperature rising from 85 degrees Celsius in Des27.7 to above boiling point. This significant increase in stability underscores the strong destabilization induced by desolvating a charged group in the core of the active site and the importance of effective stability design methods.\\n',\n",
       " 'We then tested whether the second theozyme residue, Phe113, was essential by replacing it with point mutations suggested by atomistic design. Replacement with Met and Leu exhibited similar Rosetta energies to the original Phe, and we subjected these point mutants to experimental analysis. The Met mutation showed similar catalytic parameters to Phe, suggesting that an aromatic identity is not essential at this position. Strikingly, Phe113Leu led to an order of magnitude increase in catalytic efficiency and rate to catalytic efficiency of 123,000 per mole per second and turnover number of 30 per second, surpassing by two orders of magnitude recently designed enzymes in artificial intelligence-generated proteins. To understand the reasons for this large gain in efficiency, we compared Leu113 in models of the unbound and transition states. Unlike the reorientation observed for Phe113 between the ligand-bound model and unbound experimental structure of Des27.7, Leu113 exhibits almost no sidechain conformation changes, suggesting that this mutation improves active-site preorganization.\\n\\nWe note that the aromatic theozyme residue was forced in all our design steps and was based on previous Kemp eliminase design studies. The fact that a completely aliphatic active-site pocket effectively accelerates the Kemp elimination reaction is in line with the observation that London dispersion forces are sufficient for transition-state stabilization. This finding challenges a two-decade assumption in computational Kemp eliminase design that an aromatic residue is important for ligand binding, demonstrating how de novo design of function can expose shortcomings in our understanding of fundamental aspects in biocatalysis.\\n\\nConclusions\\n\\nDe novo enzyme design has until now resulted in rudimentary catalytic rates and required iterative random mutagenesis to close the gap with enzymes found in nature. Our strategy uses recent approaches for reliable backbone and sequence design in natural folds to generate diverse TIM-barrel backbones, stabilize the protein and design preorganized active-site constellations. This comprehensive design approach allowed us to explore the principles underlying high stability and activity in Kemp elimination biocatalysis. In a single step, we generated a dozen designs with activities that spanned three orders of magnitude and gained insights into the determinants of high-efficiency catalysis. The best variant showed high stability and remarkable catalytic efficiency for a fully designed enzyme, which was increased to over 10 to the 5th M inverse seconds with a single designed mutation. Active-site preorganization combined with the ability to adopt multiple catalytically competent substrate-bound modes distinguishes this design from previously generated ones. Importantly, our best design exhibited a catalytic rate and efficiency on par with the median values of natural enzymes. Thus, the ability to design large sets of diverse backbones and encode high protein stability and active-site preorganization is necessary and sufficient for generating high-efficiency enzymes of model reactions. Furthermore, contrary to recent suggestions, the results confirm that current atomistic methods are already sufficiently reliable to generate efficient enzymes in natural folds without extensive experimental screening, big-data analyses or artificial intelligence-generated scaffolds. Future improvements in modelling theozymes may enable fully programmable biocatalysis.']"
      ]
     },
     "execution_count": 8,
     "metadata": {},
     "output_type": "execute_result"
    }
   ],
   "source": [
    "chunks"
   ]
  },
  {
   "cell_type": "code",
   "execution_count": null,
   "metadata": {},
   "outputs": [
    {
     "data": {
      "text/plain": [
       "3"
      ]
     },
     "execution_count": 13,
     "metadata": {},
     "output_type": "execute_result"
    }
   ],
   "source": [
    "\n",
    "   \n",
    "   "
   ]
  },
  {
   "cell_type": "code",
   "execution_count": null,
   "metadata": {},
   "outputs": [],
   "source": []
  }
 ],
 "metadata": {
  "kernelspec": {
   "display_name": ".venv",
   "language": "python",
   "name": "python3"
  },
  "language_info": {
   "codemirror_mode": {
    "name": "ipython",
    "version": 3
   },
   "file_extension": ".py",
   "mimetype": "text/x-python",
   "name": "python",
   "nbconvert_exporter": "python",
   "pygments_lexer": "ipython3",
   "version": "3.11.13"
  }
 },
 "nbformat": 4,
 "nbformat_minor": 2
}
